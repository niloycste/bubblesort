{
 "cells": [
  {
   "cell_type": "markdown",
   "metadata": {},
   "source": [
    "#bubblesort with function\n"
   ]
  },
  {
   "cell_type": "code",
   "execution_count": 1,
   "metadata": {},
   "outputs": [],
   "source": [
    "def bubblesort(a):\n",
    "    for i in range(len(a)):\n",
    "        for j in range(len(a)-i-1):\n",
    "            if a[j]>a[j+1]:\n",
    "                a[j],a[j+1]=a[j+1],a[j]\n",
    "    return a            "
   ]
  },
  {
   "cell_type": "code",
   "execution_count": 7,
   "metadata": {},
   "outputs": [
    {
     "name": "stdout",
     "output_type": "stream",
     "text": [
      "[1, 2, 2, 5, 34, 41, 76]\n"
     ]
    }
   ],
   "source": [
    "list=[2,41,2,5,76,34,1]\n",
    "print(bubblesort(list))\n"
   ]
  },
  {
   "cell_type": "markdown",
   "metadata": {},
   "source": [
    "#bubblesort with without function"
   ]
  },
  {
   "cell_type": "code",
   "execution_count": 4,
   "metadata": {},
   "outputs": [
    {
     "name": "stdout",
     "output_type": "stream",
     "text": [
      "enter the total number: 6\n",
      "enter the values5\n",
      "enter the values3\n",
      "enter the values2\n",
      "enter the values7\n",
      "enter the values6\n",
      "enter the values8\n",
      "unsorted list:  [5, 3, 2, 7, 6, 8]\n",
      "[3, 5, 2, 7, 6, 8]\n",
      "[3, 2, 5, 7, 6, 8]\n",
      "[3, 2, 5, 6, 7, 8]\n",
      "[2, 3, 5, 6, 7, 8]\n",
      "sorted list:  [2, 3, 5, 6, 7, 8]\n"
     ]
    }
   ],
   "source": [
    "list=[]\n",
    "size=int(input(\"enter the total number: \"))\n",
    " \n",
    "for k in range(size):\n",
    "    val=int(input(\"enter the values\"))\n",
    "    list.append(val)\n",
    "print(\"unsorted list: \",list)\n",
    "for i in range(len(list)-1):\n",
    "    for j in range(len(list)-i-1):\n",
    "        if list[j]>list[j+1]:\n",
    "            t=list[j]\n",
    "            list[j]=list[j+1]\n",
    "            list[j+1]=t\n",
    "            print(list)\n",
    "print(\"sorted list: \",list)    \n",
    "            "
   ]
  },
  {
   "cell_type": "code",
   "execution_count": null,
   "metadata": {},
   "outputs": [],
   "source": []
  }
 ],
 "metadata": {
  "kernelspec": {
   "display_name": "Python 3",
   "language": "python",
   "name": "python3"
  },
  "language_info": {
   "codemirror_mode": {
    "name": "ipython",
    "version": 3
   },
   "file_extension": ".py",
   "mimetype": "text/x-python",
   "name": "python",
   "nbconvert_exporter": "python",
   "pygments_lexer": "ipython3",
   "version": "3.7.4"
  }
 },
 "nbformat": 4,
 "nbformat_minor": 2
}
